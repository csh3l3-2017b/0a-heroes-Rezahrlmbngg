{
 "cells": [
  {
   "cell_type": "code",
   "execution_count": null,
   "metadata": {
    "collapsed": true
   },
   "outputs": [],
   "source": [
    "Tel-U Legends Heroes"
   ]
  },
  {
   "cell_type": "code",
   "execution_count": 19,
   "metadata": {},
   "outputs": [],
   "source": [
    "import pandas as pd\n",
    "data = pd.read_csv('test.csv')"
   ]
  },
  {
   "cell_type": "code",
   "execution_count": 48,
   "metadata": {},
   "outputs": [],
   "source": [
    "file = data[\"name\"]\n",
    "role = []"
   ]
  },
  {
   "cell_type": "markdown",
   "metadata": {},
   "source": [
    "Heroes yang memiliki movementSpeed >= 270, akan mendapat peran sebagai MARKSMAN (huruf kapital semua)\n",
    "Heroes dengan mana >= 500, akan mendapat peran sebagai MAGE (huruf kapital semua)\n",
    "Heroes dengan armor >= 25, akan mendapat peran sebagai TANK (huruf kapital semua)\n",
    "Heroes dengan physicalAttack >= 121, akan mendapat peran sebagai ASSASSIN (huruf kapital semua)\n",
    "Heroes dengan hp >= 2580, akan mendapat peran sebagai FIGHTER (huruf kapital semua)\n",
    "Heroes lainnya akan mendapat peran sebagai SUPPORT (huruf kapital semua)"
   ]
  },
  {
   "cell_type": "markdown",
   "metadata": {},
   "source": [
    "Code untuk membedakan tugas para hero."
   ]
  },
  {
   "cell_type": "code",
   "execution_count": 49,
   "metadata": {},
   "outputs": [],
   "source": [
    "role = []\n",
    "for n in range(len(file)):\n",
    "    if data[\"movementSpeed\"][n] >= 270:\n",
    "        role.append(\"MARKSMAN\")\n",
    "    elif data[\"mana\"][n] >=500:\n",
    "        role.append(\"MAGE\")\n",
    "    elif data[\"armor\"][n] >=25:\n",
    "        role.append(\"TANK\")\n",
    "    elif data[\"physicalAttack\"][n] >= 121:\n",
    "        role.append(\"ASSASSIN\")\n",
    "    elif data[\"hp\"][n] >= 2580:\n",
    "        role.append(\"FIGHTER\")\n",
    "    else:\n",
    "        role.append(\"SUPPORT\")"
   ]
  },
  {
   "cell_type": "markdown",
   "metadata": {},
   "source": [
    "Kemudian masukkan program tersebut kedalam prediction.csv"
   ]
  },
  {
   "cell_type": "code",
   "execution_count": 50,
   "metadata": {},
   "outputs": [],
   "source": [
    "data2 = ({\"name\" : file, \"role\" : role})\n",
    "file2 = pd.DataFrame(data2)\n",
    "file2.to_csv('prediction.csv', index=False)"
   ]
  },
  {
   "cell_type": "markdown",
   "metadata": {},
   "source": [
    "Nama : Reza Herlambang\n",
    "NIM  : 1301154422"
   ]
  },
  {
   "cell_type": "code",
   "execution_count": null,
   "metadata": {
    "collapsed": true
   },
   "outputs": [],
   "source": []
  }
 ],
 "metadata": {
  "kernelspec": {
   "display_name": "Python 3",
   "language": "python",
   "name": "python3"
  },
  "language_info": {
   "codemirror_mode": {
    "name": "ipython",
    "version": 3
   },
   "file_extension": ".py",
   "mimetype": "text/x-python",
   "name": "python",
   "nbconvert_exporter": "python",
   "pygments_lexer": "ipython3",
   "version": "3.6.3"
  }
 },
 "nbformat": 4,
 "nbformat_minor": 2
}
